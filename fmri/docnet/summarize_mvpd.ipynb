{
 "cells": [
  {
   "cell_type": "code",
   "execution_count": 3,
   "metadata": {},
   "outputs": [
    {
     "name": "stderr",
     "output_type": "stream",
     "text": [
      "/home/vayzenbe/anaconda3/envs/brainiak_new/lib/python3.7/site-packages/nilearn/datasets/__init__.py:89: FutureWarning: Fetchers from the nilearn.datasets module will be updated in version 0.9 to return python strings instead of bytes and Pandas dataframes instead of Numpy arrays.\n",
      "  \"Numpy arrays.\", FutureWarning)\n",
      "/home/vayzenbe/anaconda3/envs/brainiak_new/lib/python3.7/site-packages/nilearn/glm/__init__.py:56: FutureWarning: The nilearn.glm module is experimental. It may change in any future release of Nilearn.\n",
      "  'It may change in any future release of Nilearn.', FutureWarning)\n"
     ]
    }
   ],
   "source": [
    "from nilearn.datasets import MNI152_FILE_PATH\n",
    "import pandas as pd\n",
    "from nilearn import image, glm, plotting, input_data, datasets\n",
    "\n",
    "import numpy as np\n",
    "\n",
    "\n",
    "import nibabel as nib\n",
    "\n",
    "\n",
    "import time\n",
    "import os\n",
    "import statsmodels.api as sm\n",
    "#from nilearn.datasets import load_mni152_gm_template\n",
    "import pdb\n",
    "\n",
    "import matplotlib.pyplot as plt\n",
    "from scipy.stats import binom_test\n"
   ]
  },
  {
   "cell_type": "code",
   "execution_count": 11,
   "metadata": {},
   "outputs": [],
   "source": [
    "study ='docnet'\n",
    "study_dir = f\"/lab_data/behrmannlab/vlad/{study}\"\n",
    "out_dir = f'{study_dir}/derivatives/fc'\n",
    "results_dir = '/user_data/vayzenbe/GitHub_Repos/docnet/results/'\n",
    "exp = 'catmvpa'\n",
    "\n",
    "subj_list = [2001,2002,2003,2004, 2005, 2007, 2008, 2012, 2013, 2014, 2015, 2016, 2017, 2018]\n",
    "\n",
    "\n",
    "ventral_rois = ['LO_toolloc', 'PFS_toolloc']\n",
    "dorsal_rois = ['PPC_spaceloc',  'PPC_toolloc','PPC_distloc', 'APC_spaceloc',  'APC_toolloc','APC_distloc']\n",
    "file_suf = '_supp'\n",
    "\n",
    "brain_mask = image.load_img('/user_data/vayzenbe/GitHub_Repos/fmri/roiParcels/mruczek_parcels/binary/all_visual_areas.nii.gz')\n",
    "affine = brain_mask.affine\n",
    "vols = 331\n",
    "\n",
    "alpha = .05"
   ]
  },
  {
   "cell_type": "code",
   "execution_count": 7,
   "metadata": {},
   "outputs": [],
   "source": [
    "def dist_normalize(brain_mask, seed_mask, stat):\n",
    "    \n",
    "    #create empty brain\n",
    "    dist_img = np.zeros(stat.shape)\n",
    "    \n",
    "    #extract center of seed\n",
    "    seed_coords = np.mean(np.array(list(np.where(seed_mask == 1))), axis =1)\n",
    "    seed_coords = seed_coords.reshape((1,3))\n",
    "\n",
    "    #extract all coords of brain mask\n",
    "    brain_coords = np.transpose(np.array(list(np.where(brain_mask == 1))))\n",
    "    brain_df = pd.DataFrame(brain_coords, columns = ['x','y','z'])\n",
    "\n",
    "    #Calculate dist of all mask coords from seed\n",
    "    dists = np.linalg.norm(brain_coords-seed_coords, axis=-1)\n",
    "    dists = dists.reshape((dists.shape[0], 1))\n",
    "    brain_df['dist'] = dists\n",
    "    #min/max normalize coords\n",
    "    brain_df['dist_norm'] = (brain_df['dist'] - brain_df['dist'].min()) / (brain_df['dist'].max() - brain_df['dist'].min())\n",
    "\n",
    "    #extract stat vals from brain image\n",
    "    stat_vals = stat[tuple(np.transpose(brain_coords[:,0:3].astype(int)))]\n",
    "    stat_vals = stat_vals.reshape((stat_vals.shape[0],1))\n",
    "    brain_df['zstat'] =stat_vals\n",
    "\n",
    "    #create distance normalized image\n",
    "    brain_df['zstat_distnorm'] = brain_df['zstat'] * brain_df['dist_norm']\n",
    "\n",
    "    dist_img[tuple(np.transpose(brain_coords[:,0:3].astype(int)))] = brain_df['zstat_distnorm']\n",
    "\n",
    "    return dist_img"
   ]
  },
  {
   "cell_type": "code",
   "execution_count": 13,
   "metadata": {},
   "outputs": [],
   "source": [
    "\"\"\"\n",
    "run 2nd level model on each subjects MVPD analysis\n",
    "\"\"\"\n",
    "\n",
    "second_level_model = glm.second_level.SecondLevelModel(smoothing_fwhm=None, mask_img = brain_mask)\n",
    "alpha = .05\n",
    "rois = [\"rPPC_spaceloc\", \"rAPC_spaceloc\", \"lPPC_spaceloc\", \"lAPC_spaceloc\"]\n",
    "#rois = [\"rPPC_spaceloc\"]\n",
    "mask_img = image.get_data(brain_mask)\n",
    "\n",
    "for rr in rois:\n",
    "    fc_img = []\n",
    "    for ss in subj_list:\n",
    "        sub_dir = f'{study_dir}/sub-{study}{ss}/ses-02/'\n",
    "        roi_dir = f'{sub_dir}/derivatives/rois'\n",
    "        \n",
    "        if os.path.exists(f'{roi_dir}/spheres/{rr}_sphere.nii.gz'):\n",
    "            seed_img = image.get_data(image.load_img(f'{roi_dir}/spheres/{rr}_sphere.nii.gz'))\n",
    "\n",
    "            curr_img = image.get_data(image.load_img(f'{out_dir}/{study}{ss}_{rr}_mvpd.nii.gz'))\n",
    "            \n",
    "\n",
    "            \n",
    "            curr_img[mask_img[:, :, :] == 1] = np.arctanh(curr_img[mask_img[:, :, :] == 1])\n",
    "            norm_img = nib.Nifti1Image(curr_img, affine)  # create the volume image\n",
    "            nib.save(norm_img, f'{out_dir}/{study}{ss}_{rr}_mvpd_fishz.nii.gz')\n",
    "\n",
    "            dist_img = dist_normalize(mask_img, seed_img,curr_img)\n",
    "            norm_img = nib.Nifti1Image(dist_img, affine)  # create the volume image\n",
    "            nib.save(norm_img, f'{out_dir}/{study}{ss}_{rr}_mvpd_distnorm.nii.gz')\n",
    "\n",
    "            \n",
    "            curr_img[mask_img[:, :, :] == 1] = (curr_img[mask_img[:, :, :] == 1] - curr_img[mask_img[:, :, :] == 1].mean())/np.std(curr_img[mask_img[:, :, :] == 1])\n",
    "            \n",
    "\n",
    "            #convert back to nifti and save\n",
    "            \n",
    "            \n",
    "            curr_img = nib.Nifti1Image(curr_img, affine)\n",
    "            nib.save(curr_img, f'{out_dir}/{study}{ss}_{rr}_mvpd_z.nii.gz')   \n",
    "            \n",
    "            \n",
    "\n",
    "            fc_img.append(curr_img)\n",
    "\n",
    "\n",
    "    design_matrix = pd.DataFrame([1] * len(fc_img),\n",
    "                            columns=['intercept'])\n",
    "    final_img= second_level_model.fit(fc_img, design_matrix= design_matrix)\n",
    "    z_map = final_img.compute_contrast(output_type='z_score')\n",
    "\n",
    "    thresh_img = glm.threshold_stats_img(z_map,alpha=alpha,height_control='fdr', mask_img =brain_mask)\n",
    "    #thresh_img = image.threshold_img(final_img, thresh_val[1])\n",
    "\n",
    "    nib.save(z_map, f'{out_dir}/{rr}_mvpd{file_suf}.nii.gz')\n",
    "    nib.save(thresh_img[0], f'{results_dir}/mvpd/{rr}_mvpd{file_suf}.nii.gz')\n",
    "\n"
   ]
  },
  {
   "cell_type": "code",
   "execution_count": 17,
   "metadata": {},
   "outputs": [
    {
     "name": "stdout",
     "output_type": "stream",
     "text": [
      "lLO_toolloc\n"
     ]
    },
    {
     "data": {
      "image/png": "[encoded data removed]",
      "text/plain": [
       "<Figure size 432x288 with 1 Axes>"
      ]
     },
     "metadata": {
      "needs_background": "light"
     },
     "output_type": "display_data"
    },
    {
     "name": "stdout",
     "output_type": "stream",
     "text": [
      "rLO_toolloc\n"
     ]
    },
    {
     "data": {
      "image/png": "[encoded data removed]",
      "text/plain": [
       "<Figure size 432x288 with 1 Axes>"
      ]
     },
     "metadata": {
      "needs_background": "light"
     },
     "output_type": "display_data"
    }
   ],
   "source": [
    "\"\"\"\n",
    "extract avg signal in LO  and PFS\n",
    "\n",
    "\"\"\"\n",
    "ventral_rois = ['LO_toolloc']\n",
    "rois = [\"rPPC_spaceloc\", \"rAPC_spaceloc\", \"lPPC_spaceloc\", \"lAPC_spaceloc\"]\n",
    "\n",
    "#For each ventral ROI\n",
    "for lr in ['l', 'r']:\n",
    "    for vr in ventral_rois:    \n",
    "        summary_df = pd.DataFrame(columns = ['sub'] + [rr for rr in rois])\n",
    "        #summary_df = pd.DataFrame(columns = ['sub'] + ['r' + rr for rr in rois])\n",
    "        ventral = f'{lr}{vr}'\n",
    "        \n",
    "        print(ventral)\n",
    "        for ss in subj_list:\n",
    "            \n",
    "            sub_dir = f'{study_dir}/sub-{study}{ss}/ses-02/'\n",
    "            roi_dir = f'{sub_dir}/derivatives/rois'\n",
    "            \n",
    "        \n",
    "            ventral_mask = image.load_img(f'{roi_dir}/spheres/{ventral}_sphere.nii.gz')\n",
    "            ventral_mask = input_data.NiftiMasker(ventral_mask)\n",
    "                        \n",
    "            roi_mean = []\n",
    "            roi_mean.append(ss)\n",
    "            #For each dorsal ROI\n",
    "        \n",
    "            for rr in rois:\n",
    "                \n",
    "                roi = rr\n",
    "                if os.path.exists(f'{out_dir}/{study}{ss}_{rr}_mvpd_fishz.nii.gz'):\n",
    "                    fc_img = image.load_img(f'{out_dir}/{study}{ss}_{rr}_mvpd_fishz.nii.gz')\n",
    "                    \n",
    "                    #ppi_img  = image.smooth_img(ppi_img, 6)\n",
    "                    acts = ventral_mask.fit_transform(fc_img)\n",
    "\n",
    "                    roi_mean.append(acts.mean())\n",
    "                else:\n",
    "                    roi_mean.append(np.nan)\n",
    "\n",
    "            summary_df = summary_df.append(pd.Series(roi_mean, index = summary_df.columns), ignore_index = True)\n",
    "\n",
    "        summary_df.to_csv(f'{results_dir}/mvpd/{ventral}_mvpd{file_suf}.csv', index=False)\n",
    "        summary_df.iloc[:, 1:].mean().plot(kind = 'bar', title = ventral, ylabel = 'Functional Connectivity',\n",
    "        yerr=[summary_df.iloc[:,1:].sem().to_list(), summary_df.iloc[:,1:].sem().to_list()])\n",
    "        plt.pause(0.0001)"
   ]
  },
  {
   "cell_type": "code",
   "execution_count": 16,
   "metadata": {},
   "outputs": [
    {
     "data": {
      "text/html": [
       "<div>\n",
       "<style scoped>\n",
       "    .dataframe tbody tr th:only-of-type {\n",
       "        vertical-align: middle;\n",
       "    }\n",
       "\n",
       "    .dataframe tbody tr th {\n",
       "        vertical-align: top;\n",
       "    }\n",
       "\n",
       "    .dataframe thead th {\n",
       "        text-align: right;\n",
       "    }\n",
       "</style>\n",
       "<table border=\"1\" class=\"dataframe\">\n",
       "  <thead>\n",
       "    <tr style=\"text-align: right;\">\n",
       "      <th></th>\n",
       "      <th>sub</th>\n",
       "      <th>rPPC_spaceloc</th>\n",
       "      <th>rAPC_spaceloc</th>\n",
       "      <th>lPPC_spaceloc</th>\n",
       "      <th>lAPC_spaceloc</th>\n",
       "      <th>lAPC_distloc</th>\n",
       "    </tr>\n",
       "  </thead>\n",
       "  <tbody>\n",
       "    <tr>\n",
       "      <th>0</th>\n",
       "      <td>2001.0</td>\n",
       "      <td>0.460961</td>\n",
       "      <td>0.507273</td>\n",
       "      <td>0.458287</td>\n",
       "      <td>0.458287</td>\n",
       "      <td>0.494339</td>\n",
       "    </tr>\n",
       "    <tr>\n",
       "      <th>1</th>\n",
       "      <td>2002.0</td>\n",
       "      <td>0.829478</td>\n",
       "      <td>0.458770</td>\n",
       "      <td>0.453639</td>\n",
       "      <td>0.411626</td>\n",
       "      <td>0.565618</td>\n",
       "    </tr>\n",
       "    <tr>\n",
       "      <th>2</th>\n",
       "      <td>2003.0</td>\n",
       "      <td>0.653404</td>\n",
       "      <td>0.606474</td>\n",
       "      <td>NaN</td>\n",
       "      <td>NaN</td>\n",
       "      <td>0.706484</td>\n",
       "    </tr>\n",
       "    <tr>\n",
       "      <th>3</th>\n",
       "      <td>2004.0</td>\n",
       "      <td>0.676108</td>\n",
       "      <td>0.603783</td>\n",
       "      <td>0.520804</td>\n",
       "      <td>0.407809</td>\n",
       "      <td>0.439468</td>\n",
       "    </tr>\n",
       "    <tr>\n",
       "      <th>4</th>\n",
       "      <td>2005.0</td>\n",
       "      <td>0.821418</td>\n",
       "      <td>0.522141</td>\n",
       "      <td>0.647663</td>\n",
       "      <td>0.616236</td>\n",
       "      <td>0.520947</td>\n",
       "    </tr>\n",
       "    <tr>\n",
       "      <th>5</th>\n",
       "      <td>2007.0</td>\n",
       "      <td>0.462676</td>\n",
       "      <td>0.357948</td>\n",
       "      <td>0.615928</td>\n",
       "      <td>0.507388</td>\n",
       "      <td>0.324589</td>\n",
       "    </tr>\n",
       "    <tr>\n",
       "      <th>6</th>\n",
       "      <td>2008.0</td>\n",
       "      <td>0.585567</td>\n",
       "      <td>0.461075</td>\n",
       "      <td>0.426751</td>\n",
       "      <td>0.167999</td>\n",
       "      <td>0.170880</td>\n",
       "    </tr>\n",
       "    <tr>\n",
       "      <th>7</th>\n",
       "      <td>2012.0</td>\n",
       "      <td>0.290511</td>\n",
       "      <td>0.281292</td>\n",
       "      <td>NaN</td>\n",
       "      <td>NaN</td>\n",
       "      <td>0.273827</td>\n",
       "    </tr>\n",
       "    <tr>\n",
       "      <th>8</th>\n",
       "      <td>2013.0</td>\n",
       "      <td>0.415970</td>\n",
       "      <td>0.641063</td>\n",
       "      <td>0.528334</td>\n",
       "      <td>0.593979</td>\n",
       "      <td>0.602034</td>\n",
       "    </tr>\n",
       "    <tr>\n",
       "      <th>9</th>\n",
       "      <td>2014.0</td>\n",
       "      <td>0.775886</td>\n",
       "      <td>0.698252</td>\n",
       "      <td>0.701847</td>\n",
       "      <td>0.481417</td>\n",
       "      <td>0.668796</td>\n",
       "    </tr>\n",
       "    <tr>\n",
       "      <th>10</th>\n",
       "      <td>2015.0</td>\n",
       "      <td>0.950230</td>\n",
       "      <td>0.477648</td>\n",
       "      <td>0.801689</td>\n",
       "      <td>0.554624</td>\n",
       "      <td>0.718124</td>\n",
       "    </tr>\n",
       "    <tr>\n",
       "      <th>11</th>\n",
       "      <td>2016.0</td>\n",
       "      <td>0.715072</td>\n",
       "      <td>0.483808</td>\n",
       "      <td>0.575845</td>\n",
       "      <td>0.575845</td>\n",
       "      <td>0.588922</td>\n",
       "    </tr>\n",
       "    <tr>\n",
       "      <th>12</th>\n",
       "      <td>2017.0</td>\n",
       "      <td>0.615080</td>\n",
       "      <td>0.595401</td>\n",
       "      <td>0.504652</td>\n",
       "      <td>0.504659</td>\n",
       "      <td>NaN</td>\n",
       "    </tr>\n",
       "    <tr>\n",
       "      <th>13</th>\n",
       "      <td>2018.0</td>\n",
       "      <td>0.423082</td>\n",
       "      <td>0.436938</td>\n",
       "      <td>0.370690</td>\n",
       "      <td>0.372428</td>\n",
       "      <td>NaN</td>\n",
       "    </tr>\n",
       "  </tbody>\n",
       "</table>\n",
       "</div>"
      ],
      "text/plain": [
       "       sub  rPPC_spaceloc  rAPC_spaceloc  lPPC_spaceloc  lAPC_spaceloc  \\\n",
       "0   2001.0       0.460961       0.507273       0.458287       0.458287   \n",
       "1   2002.0       0.829478       0.458770       0.453639       0.411626   \n",
       "2   2003.0       0.653404       0.606474            NaN            NaN   \n",
       "3   2004.0       0.676108       0.603783       0.520804       0.407809   \n",
       "4   2005.0       0.821418       0.522141       0.647663       0.616236   \n",
       "5   2007.0       0.462676       0.357948       0.615928       0.507388   \n",
       "6   2008.0       0.585567       0.461075       0.426751       0.167999   \n",
       "7   2012.0       0.290511       0.281292            NaN            NaN   \n",
       "8   2013.0       0.415970       0.641063       0.528334       0.593979   \n",
       "9   2014.0       0.775886       0.698252       0.701847       0.481417   \n",
       "10  2015.0       0.950230       0.477648       0.801689       0.554624   \n",
       "11  2016.0       0.715072       0.483808       0.575845       0.575845   \n",
       "12  2017.0       0.615080       0.595401       0.504652       0.504659   \n",
       "13  2018.0       0.423082       0.436938       0.370690       0.372428   \n",
       "\n",
       "    lAPC_distloc  \n",
       "0       0.494339  \n",
       "1       0.565618  \n",
       "2       0.706484  \n",
       "3       0.439468  \n",
       "4       0.520947  \n",
       "5       0.324589  \n",
       "6       0.170880  \n",
       "7       0.273827  \n",
       "8       0.602034  \n",
       "9       0.668796  \n",
       "10      0.718124  \n",
       "11      0.588922  \n",
       "12           NaN  \n",
       "13           NaN  "
      ]
     },
     "execution_count": 16,
     "metadata": {},
     "output_type": "execute_result"
    }
   ],
   "source": [
    "summary_df"
   ]
  },
  {
   "cell_type": "code",
   "execution_count": 119,
   "metadata": {},
   "outputs": [
    {
     "data": {
      "image/png": "[encoded data removed]",
      "text/plain": [
       "<Figure size 432x288 with 1 Axes>"
      ]
     },
     "metadata": {
      "needs_background": "light"
     },
     "output_type": "display_data"
    }
   ],
   "source": [
    "\"\"\"\n",
    "Do non-parametric test in ventral mask\n",
    "\"\"\"\n",
    "\n",
    "ventral_mask = image.get_data(image.load_img('/user_data/vayzenbe/GitHub_Repos/fmri/roiParcels/mruczek_parcels/binary/ventral_visual_cortex.nii.gz'))\n",
    "summary_df = pd.DataFrame(columns = ['sub'] + [rr for rr in rois])\n",
    "for ss in subj_list:\n",
    "        \n",
    "    sub_dir = f'{study_dir}/sub-{study}{ss}/ses-02/'\n",
    "    roi_dir = f'{sub_dir}/derivatives/rois'\n",
    "                \n",
    "    roi_mean = []\n",
    "    roi_mean.append(ss)\n",
    "    #For each dorsal ROI\n",
    "    roi_counts = []\n",
    "    roi_counts.append(ss)\n",
    "    for rr in rois:\n",
    "        if os.path.exists(f'{out_dir}/{study}{ss}_{rr}_mvpd_fishz.nii.gz'):\n",
    "            curr_img = image.get_data(image.load_img(f'{out_dir}/{study}{ss}_{rr}_mvpd_z.nii.gz'))\n",
    "            curr_count = np.count_nonzero(curr_img1[(ventral_mask >0) & (curr_img >2.5)])\n",
    "            roi_counts.append(curr_count)\n",
    "        else:\n",
    "            roi_counts.append(np.nan)\n",
    "\n",
    "    summary_df = summary_df.append(pd.Series(roi_counts, index = summary_df.columns), ignore_index = True)\n",
    "\n",
    "    summary_df.to_csv(f'{results_dir}/{ventral}_mvpd.csv', index=False)\n",
    "summary_df.iloc[:, 1:].mean().plot(kind = 'bar',ylabel = 'Voxel Counts',\n",
    "yerr=[summary_df.iloc[:,1:].sem().to_list(), summary_df.iloc[:,1:].sem().to_list()])\n",
    "plt.pause(0.0001)\n",
    "\n",
    "        "
   ]
  },
  {
   "cell_type": "code",
   "execution_count": 121,
   "metadata": {},
   "outputs": [
    {
     "data": {
      "text/html": [
       "<div>\n",
       "<style scoped>\n",
       "    .dataframe tbody tr th:only-of-type {\n",
       "        vertical-align: middle;\n",
       "    }\n",
       "\n",
       "    .dataframe tbody tr th {\n",
       "        vertical-align: top;\n",
       "    }\n",
       "\n",
       "    .dataframe thead th {\n",
       "        text-align: right;\n",
       "    }\n",
       "</style>\n",
       "<table border=\"1\" class=\"dataframe\">\n",
       "  <thead>\n",
       "    <tr style=\"text-align: right;\">\n",
       "      <th></th>\n",
       "      <th>sub</th>\n",
       "      <th>rPPC_spaceloc</th>\n",
       "      <th>rAPC_spaceloc</th>\n",
       "      <th>lPPC_spaceloc</th>\n",
       "      <th>lAPC_spaceloc</th>\n",
       "      <th>lAPC_distloc</th>\n",
       "    </tr>\n",
       "  </thead>\n",
       "  <tbody>\n",
       "    <tr>\n",
       "      <th>0</th>\n",
       "      <td>2001</td>\n",
       "      <td>347</td>\n",
       "      <td>411</td>\n",
       "      <td>450</td>\n",
       "      <td>450</td>\n",
       "      <td>512</td>\n",
       "    </tr>\n",
       "    <tr>\n",
       "      <th>1</th>\n",
       "      <td>2002</td>\n",
       "      <td>1042</td>\n",
       "      <td>548</td>\n",
       "      <td>474</td>\n",
       "      <td>581</td>\n",
       "      <td>326</td>\n",
       "    </tr>\n",
       "    <tr>\n",
       "      <th>2</th>\n",
       "      <td>2003</td>\n",
       "      <td>283</td>\n",
       "      <td>360</td>\n",
       "      <td>NaN</td>\n",
       "      <td>NaN</td>\n",
       "      <td>458</td>\n",
       "    </tr>\n",
       "    <tr>\n",
       "      <th>3</th>\n",
       "      <td>2004</td>\n",
       "      <td>811</td>\n",
       "      <td>456</td>\n",
       "      <td>468</td>\n",
       "      <td>426</td>\n",
       "      <td>337</td>\n",
       "    </tr>\n",
       "    <tr>\n",
       "      <th>4</th>\n",
       "      <td>2005</td>\n",
       "      <td>278</td>\n",
       "      <td>212</td>\n",
       "      <td>259</td>\n",
       "      <td>194</td>\n",
       "      <td>304</td>\n",
       "    </tr>\n",
       "    <tr>\n",
       "      <th>5</th>\n",
       "      <td>2007</td>\n",
       "      <td>565</td>\n",
       "      <td>567</td>\n",
       "      <td>1051</td>\n",
       "      <td>443</td>\n",
       "      <td>647</td>\n",
       "    </tr>\n",
       "    <tr>\n",
       "      <th>6</th>\n",
       "      <td>2008</td>\n",
       "      <td>387</td>\n",
       "      <td>506</td>\n",
       "      <td>562</td>\n",
       "      <td>940</td>\n",
       "      <td>998</td>\n",
       "    </tr>\n",
       "    <tr>\n",
       "      <th>7</th>\n",
       "      <td>2012</td>\n",
       "      <td>406</td>\n",
       "      <td>506</td>\n",
       "      <td>NaN</td>\n",
       "      <td>NaN</td>\n",
       "      <td>473</td>\n",
       "    </tr>\n",
       "    <tr>\n",
       "      <th>8</th>\n",
       "      <td>2013</td>\n",
       "      <td>416</td>\n",
       "      <td>349</td>\n",
       "      <td>315</td>\n",
       "      <td>295</td>\n",
       "      <td>363</td>\n",
       "    </tr>\n",
       "    <tr>\n",
       "      <th>9</th>\n",
       "      <td>2014</td>\n",
       "      <td>448</td>\n",
       "      <td>284</td>\n",
       "      <td>405</td>\n",
       "      <td>359</td>\n",
       "      <td>486</td>\n",
       "    </tr>\n",
       "    <tr>\n",
       "      <th>10</th>\n",
       "      <td>2015</td>\n",
       "      <td>713</td>\n",
       "      <td>651</td>\n",
       "      <td>384</td>\n",
       "      <td>616</td>\n",
       "      <td>291</td>\n",
       "    </tr>\n",
       "    <tr>\n",
       "      <th>11</th>\n",
       "      <td>2016</td>\n",
       "      <td>465</td>\n",
       "      <td>549</td>\n",
       "      <td>548</td>\n",
       "      <td>548</td>\n",
       "      <td>488</td>\n",
       "    </tr>\n",
       "  </tbody>\n",
       "</table>\n",
       "</div>"
      ],
      "text/plain": [
       "     sub rPPC_spaceloc rAPC_spaceloc lPPC_spaceloc lAPC_spaceloc lAPC_distloc\n",
       "0   2001           347           411           450           450          512\n",
       "1   2002          1042           548           474           581          326\n",
       "2   2003           283           360           NaN           NaN          458\n",
       "3   2004           811           456           468           426          337\n",
       "4   2005           278           212           259           194          304\n",
       "5   2007           565           567          1051           443          647\n",
       "6   2008           387           506           562           940          998\n",
       "7   2012           406           506           NaN           NaN          473\n",
       "8   2013           416           349           315           295          363\n",
       "9   2014           448           284           405           359          486\n",
       "10  2015           713           651           384           616          291\n",
       "11  2016           465           549           548           548          488"
      ]
     },
     "execution_count": 121,
     "metadata": {},
     "output_type": "execute_result"
    }
   ],
   "source": [
    "summary_df"
   ]
  },
  {
   "cell_type": "code",
   "execution_count": 120,
   "metadata": {},
   "outputs": [
    {
     "name": "stdout",
     "output_type": "stream",
     "text": [
      "rPPC_spaceloc rPPC_spaceloc 0.5 12415 12415 1.0\n",
      "rPPC_spaceloc rAPC_spaceloc 0.5626812907904278 12415 9649 0.0\n",
      "rPPC_spaceloc lPPC_spaceloc 0.5825083282503636 12415 8898 0.0\n",
      "rPPC_spaceloc lAPC_spaceloc 0.6303630363036303 12415 7280 0.0\n",
      "rPPC_spaceloc lAPC_distloc 0.5989193882965893 12415 8314 0.0\n",
      "rAPC_spaceloc rPPC_spaceloc 0.43731870920957217 9649 12415 0.0\n",
      "rAPC_spaceloc rAPC_spaceloc 0.5 9649 9649 1.0\n",
      "rAPC_spaceloc lPPC_spaceloc 0.5202458618644524 9649 8898 0.0\n",
      "rAPC_spaceloc lAPC_spaceloc 0.5699686927757103 9649 7280 0.0\n",
      "rAPC_spaceloc lAPC_distloc 0.5371597171964594 9649 8314 0.0\n",
      "lPPC_spaceloc rPPC_spaceloc 0.41749167174963636 8898 12415 0.0\n",
      "lPPC_spaceloc rAPC_spaceloc 0.4797541381355475 8898 9649 0.0\n",
      "lPPC_spaceloc lPPC_spaceloc 0.5 8898 8898 1.0\n",
      "lPPC_spaceloc lAPC_spaceloc 0.5500061812337743 8898 7280 0.0\n",
      "lPPC_spaceloc lAPC_distloc 0.5169649082035789 8898 8314 0.0\n",
      "lAPC_spaceloc rPPC_spaceloc 0.3696369636963696 7280 12415 0.0\n",
      "lAPC_spaceloc rAPC_spaceloc 0.43003130722428967 7280 9649 0.0\n",
      "lAPC_spaceloc lPPC_spaceloc 0.44999381876622574 7280 8898 0.0\n",
      "lAPC_spaceloc lAPC_spaceloc 0.5 7280 7280 1.0\n",
      "lAPC_spaceloc lAPC_distloc 0.466846222906246 7280 8314 0.0\n",
      "lAPC_distloc rPPC_spaceloc 0.4010806117034107 8314 12415 0.0\n",
      "lAPC_distloc rAPC_spaceloc 0.4628402828035406 8314 9649 0.0\n",
      "lAPC_distloc lPPC_spaceloc 0.4830350917964211 8314 8898 0.0\n",
      "lAPC_distloc lAPC_spaceloc 0.533153777093754 8314 7280 0.0\n",
      "lAPC_distloc lAPC_distloc 0.5 8314 8314 1.0\n"
     ]
    }
   ],
   "source": [
    "roi_counts\n",
    "\n",
    "\n",
    "\n",
    "\n",
    "\n",
    "rois = [\"rPPC_spaceloc\", \"rAPC_spaceloc\", \"lPPC_spaceloc\", \"lAPC_spaceloc\", \"lAPC_distloc\"]\n",
    "\n",
    "all_count = []\n",
    "for rr1 in rois:\n",
    "    curr_img1 = image.get_data(image.load_img(f'{results_dir}/mvpd/{rr1}_mvpd.nii.gz'))\n",
    "    curr_count1 = np.count_nonzero(curr_img1[(ventral_mask >0) & (curr_img1 >0)])\n",
    "    for rr2 in rois:\n",
    "        curr_img2 = image.get_data(image.load_img(f'{results_dir}/mvpd/{rr2}_mvpd.nii.gz'))\n",
    "        curr_count2 = np.count_nonzero(curr_img2[(ventral_mask >0) & (curr_img2 >0)])\n",
    "\n",
    "        prop = curr_count1/(curr_count1 +curr_count2)\n",
    "        binom_p = binom_test(curr_count1, n=(curr_count1+curr_count2), p=0.5)\n",
    "        print(rr1,rr2, prop, curr_count1, curr_count2, np.round_(binom_p,))\n",
    "\n",
    "\n"
   ]
  },
  {
   "cell_type": "code",
   "execution_count": 81,
   "metadata": {},
   "outputs": [
    {
     "data": {
      "text/plain": [
       "0.003178474576954759"
      ]
     },
     "execution_count": 81,
     "metadata": {},
     "output_type": "execute_result"
    }
   ],
   "source": [
    "binom_test(8800, n=(17212), p=0.5)"
   ]
  },
  {
   "cell_type": "code",
   "execution_count": 86,
   "metadata": {},
   "outputs": [
    {
     "data": {
      "text/plain": [
       "Power_divergenceResult(statistic=3.8461538461538463, pvalue=0.049860203756906855)"
      ]
     },
     "execution_count": 86,
     "metadata": {},
     "output_type": "execute_result"
    }
   ],
   "source": [
    "from scipy.stats import chisquare\n",
    "chisquare([8 , 18])"
   ]
  },
  {
   "cell_type": "code",
   "execution_count": 82,
   "metadata": {},
   "outputs": [
    {
     "ename": "NameError",
     "evalue": "name 'chisquare' is not defined",
     "output_type": "error",
     "traceback": [
      "\u001b[0;31m---------------------------------------------------------------------------\u001b[0m",
      "\u001b[0;31mNameError\u001b[0m                                 Traceback (most recent call last)",
      "\u001b[0;32m/tmp/ipykernel_19341/2107561324.py\u001b[0m in \u001b[0;36m<module>\u001b[0;34m\u001b[0m\n\u001b[0;32m----> 1\u001b[0;31m \u001b[0mchisquare\u001b[0m\u001b[0;34m(\u001b[0m\u001b[0;34m[\u001b[0m\u001b[0;36m8898\u001b[0m \u001b[0;34m,\u001b[0m \u001b[0;36m8314\u001b[0m\u001b[0;34m]\u001b[0m\u001b[0;34m)\u001b[0m\u001b[0;34m\u001b[0m\u001b[0;34m\u001b[0m\u001b[0m\n\u001b[0m",
      "\u001b[0;31mNameError\u001b[0m: name 'chisquare' is not defined"
     ]
    }
   ],
   "source": []
  },
  {
   "cell_type": "code",
   "execution_count": 64,
   "metadata": {},
   "outputs": [
    {
     "data": {
      "text/plain": [
       "21313"
      ]
     },
     "execution_count": 64,
     "metadata": {},
     "output_type": "execute_result"
    }
   ],
   "source": [
    "(12415+8898)"
   ]
  },
  {
   "cell_type": "code",
   "execution_count": 74,
   "metadata": {},
   "outputs": [
    {
     "name": "stdout",
     "output_type": "stream",
     "text": [
      "lLO_toolloc\n"
     ]
    },
    {
     "data": {
      "image/png": "[encoded data removed]",
      "text/plain": [
       "<Figure size 432x288 with 1 Axes>"
      ]
     },
     "metadata": {
      "needs_background": "light"
     },
     "output_type": "display_data"
    },
    {
     "name": "stdout",
     "output_type": "stream",
     "text": [
      "lPFS_toolloc\n"
     ]
    },
    {
     "data": {
      "image/png": "[encoded data removed]",
      "text/plain": [
       "<Figure size 432x288 with 1 Axes>"
      ]
     },
     "metadata": {
      "needs_background": "light"
     },
     "output_type": "display_data"
    },
    {
     "name": "stdout",
     "output_type": "stream",
     "text": [
      "rLO_toolloc\n"
     ]
    },
    {
     "data": {
      "image/png": "[encoded data removed]",
      "text/plain": [
       "<Figure size 432x288 with 1 Axes>"
      ]
     },
     "metadata": {
      "needs_background": "light"
     },
     "output_type": "display_data"
    },
    {
     "name": "stdout",
     "output_type": "stream",
     "text": [
      "rPFS_toolloc\n"
     ]
    },
    {
     "data": {
      "image/png": "[encoded data removed]",
      "text/plain": [
       "<Figure size 432x288 with 1 Axes>"
      ]
     },
     "metadata": {
      "needs_background": "light"
     },
     "output_type": "display_data"
    }
   ],
   "source": [
    "\"\"\"\n",
    "analyze in ventral regions\n",
    "\"\"\"\n",
    "\n",
    "for lr in ['l','r']:\n",
    "    for vr in ventral_rois:\n",
    "        vroi = f'{lr}{vr}'\n",
    "        roi_summary = pd.DataFrame(columns = ['sub'] + ['r' + dr for dr in dorsal_rois])\n",
    "        for ss in subj_list:\n",
    "            curr_df = pd.read_csv(f'{out_dir}/{study}{ss}_mvc.csv')\n",
    "            curr_df = curr_df[curr_df['ventral_roi'] == vroi]\n",
    "            \n",
    "            roi_data = [ss]\n",
    "            for lr2 in ['r']:\n",
    "                for dr in dorsal_rois:\n",
    "                    droi = f'{lr2}{dr}'\n",
    "                    try:\n",
    "                        roi_data.append(curr_df['mvc'][curr_df['dorsal_roi'] == droi].to_numpy()[0])\n",
    "                    except:\n",
    "                        roi_data.append(np.nan)\n",
    "\n",
    "            \n",
    "            roi_summary = roi_summary.append(pd.Series(roi_data, index = roi_summary.columns), ignore_index=True)\n",
    "    \n",
    "        print(vroi)\n",
    "        roi_summary.to_csv(f'{results_dir}/{vroi}_mvc_summary.csv', index = False)\n",
    "        roi_summary.iloc[:,1:].mean().plot(kind = 'bar', title = vroi, ylim = [0, .7], ylabel = 'Multivaraite connectivity',\n",
    "        yerr=[roi_summary.iloc[:,1:].sem().to_list(), roi_summary.iloc[:,1:].sem().to_list()])\n",
    "        plt.pause(0.0001)\n",
    "\n",
    "\n",
    "    \n",
    "\n"
   ]
  }
 ],
 "metadata": {
  "interpreter": {
   "hash": "916856ec24c16ab51d78b3709200ea33364ebc8e6b0aedf4b413156dba8c7e75"
  },
  "kernelspec": {
   "display_name": "Python 3.7.11 64-bit ('brainiak': conda)",
   "name": "python3"
  },
  "language_info": {
   "codemirror_mode": {
    "name": "ipython",
    "version": 3
   },
   "file_extension": ".py",
   "mimetype": "text/x-python",
   "name": "python",
   "nbconvert_exporter": "python",
   "pygments_lexer": "ipython3",
   "version": "3.7.11"
  },
  "orig_nbformat": 4
 },
 "nbformat": 4,
 "nbformat_minor": 2
}
